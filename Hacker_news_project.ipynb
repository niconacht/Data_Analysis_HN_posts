{
 "cells": [
  {
   "cell_type": "markdown",
   "metadata": {
    "collapsed": true
   },
   "source": [
    "Analysis of Hacker News Posts\n",
    "\n",
    "    In this analysis, I am going to analyze a sample of an HN data set of post listings. Among others, popular post categories are \"Show HN\", in which users show the audience their projects or concepts. The other popular category I am going to examine is \"Ask HN\", where users post their questions to the community hoping to get an appropriate answer. The aim of this analysis is to find out, which of the two categories creates most user comments, and whether the timing of the post is relevant for the quantity of comments.  \n",
    "\n"
   ]
  },
  {
   "cell_type": "code",
   "execution_count": 1,
   "metadata": {},
   "outputs": [
    {
     "name": "stdout",
     "output_type": "stream",
     "text": [
      "14\n",
      "10\n"
     ]
    }
   ],
   "source": [
    "import csv as c\n",
    "from csv import reader\n",
    "\n",
    "hn = open(\"hacker_news.csv\")\n",
    "hn = reader(hn)\n",
    "hn = list(hn)\n",
    "\n",
    "headers = hn[0]\n",
    "hn = hn[1:]\n",
    "#for row in hn[:6]:\n",
    " #   print(row)\n",
    "ask_posts =[]\n",
    "show_posts = []\n",
    "other_posts = []\n",
    "\n",
    "for row in hn:\n",
    "    title = row[1].lower()\n",
    "    if title.startswith(\"ask hn\"):\n",
    "        ask_posts.append(row)\n",
    "    elif title.startswith(\"show hn\"):\n",
    "        show_posts.append(row)\n",
    "    else:\n",
    "        other_posts.append(row)\n",
    "#print(len(ask_posts), len(show_posts), len(other_posts))\n",
    "\n",
    "total_ask_comments = 0\n",
    "for row in ask_posts:\n",
    "    comments = int(row[4])\n",
    "    total_ask_comments += comments\n",
    "avg_ask_comments = round(total_ask_comments/len(ask_posts))\n",
    "print(avg_ask_comments)\n",
    "\n",
    "total_show_comments = 0\n",
    "for row in show_posts:\n",
    "    comments = int(row[4])\n",
    "    total_show_comments += comments\n",
    "avg_show_comments = round(total_show_comments/len(show_posts))\n",
    "print(avg_show_comments)\n",
    "\n",
    "    \n",
    "\n",
    "    \n",
    "          "
   ]
  },
  {
   "cell_type": "markdown",
   "metadata": {},
   "source": [
    "It turns out that \"Ask HN\" Posts receive more comments than post in the \"Show HN\" category. This is not surprising, since the ask category itself implies and calls users to react, to offer and write a solution to the problem in the comment section. And it is good practice among programmers to help each other with coding problems in the countless online discussion boards.\n",
    "First, I am going to concentrate on the \"Ask HN\"- category of posts to find out at what time comments usually are posted the most."
   ]
  },
  {
   "cell_type": "code",
   "execution_count": 16,
   "metadata": {},
   "outputs": [
    {
     "name": "stdout",
     "output_type": "stream",
     "text": [
      "[15, 39]\n",
      "[2, 24]\n",
      "[20, 22]\n",
      "[16, 17]\n",
      "[21, 16]\n",
      "[13, 15]\n",
      "[10, 13]\n",
      "[14, 13]\n",
      "[18, 13]\n",
      "[1, 12]\n",
      "[5, 11]\n",
      "[11, 11]\n",
      "[17, 11]\n",
      "[19, 11]\n",
      "[8, 10]\n",
      "[6, 9]\n",
      "[12, 9]\n",
      "[0, 8]\n",
      "[3, 8]\n",
      "[7, 8]\n",
      "[23, 8]\n",
      "[4, 7]\n",
      "[22, 7]\n",
      "[9, 6]\n"
     ]
    }
   ],
   "source": [
    "import datetime as dt\n",
    "result_list = []\n",
    "for row in ask_posts:\n",
    "    create_time = row[6]\n",
    "    comments = int(row[4])\n",
    "    result_list.append([create_time, comments])\n",
    "\n",
    "counts_by_hour = {}\n",
    "comments_by_hour = {}\n",
    "date_format = \"%m/%d/%Y %H:%M\"\n",
    "for post in result_list:\n",
    "    date = post[0]\n",
    "    date_time = dt.datetime.strptime(date, date_format)\n",
    "    post[0] = date_time \n",
    "    hour = date_time.hour\n",
    "    if hour not in counts_by_hour:\n",
    "        counts_by_hour[hour] = 0\n",
    "        comments_by_hour[hour] = post[1]\n",
    "    counts_by_hour[hour] += 1\n",
    "    comments_by_hour[hour] += post[1]\n",
    "#print(counts_by_hour, \"\\n\", comments_by_hour)   \n",
    "\n",
    "avg_by_hour = []\n",
    "for hour in comments_by_hour:\n",
    "    avg_by_hour.append([hour, round(comments_by_hour[hour]/counts_by_hour[hour])])\n",
    "avg_by_hour_sorted = sorted(avg_by_hour, key = lambda x: x[1], reverse = True)\n",
    "for row in avg_by_hour_sorted:\n",
    "    print (row)\n",
    "    \n",
    "    \n",
    "    \n",
    "    \n",
    "    \n",
    "    \n",
    "   \n",
    "    \n",
    "   \n",
    "    \n",
    "    "
   ]
  },
  {
   "cell_type": "markdown",
   "metadata": {},
   "source": [
    "As a interim finding, I showed that on average, by far the most comments were posted at around 3pm, followed by the comments at around 2am and 8 pm.\n",
    "\n",
    "Next, I'm going to find out whether posts of the category \"Show HN\" or \"Ask HN\" geht the most points. Points are the number of upvotes minus the number of downvotes of a post, indicating how much a post was \"liked\" or appreciated.\n"
   ]
  },
  {
   "cell_type": "code",
   "execution_count": null,
   "metadata": {
    "collapsed": true
   },
   "outputs": [],
   "source": []
  },
  {
   "cell_type": "markdown",
   "metadata": {},
   "source": [
    "Next, let's find out if posts created at a certain time are more likely to receive more points"
   ]
  },
  {
   "cell_type": "code",
   "execution_count": null,
   "metadata": {
    "collapsed": true
   },
   "outputs": [],
   "source": []
  },
  {
   "cell_type": "markdown",
   "metadata": {},
   "source": [
    "Finally, I'm going to compare this result to the average number of comments and points other posts recieve to see if there are any concordances."
   ]
  }
 ],
 "metadata": {
  "kernelspec": {
   "display_name": "Python 3",
   "language": "python",
   "name": "python3"
  },
  "language_info": {
   "codemirror_mode": {
    "name": "ipython",
    "version": 3
   },
   "file_extension": ".py",
   "mimetype": "text/x-python",
   "name": "python",
   "nbconvert_exporter": "python",
   "pygments_lexer": "ipython3",
   "version": "3.7.4"
  }
 },
 "nbformat": 4,
 "nbformat_minor": 2
}
